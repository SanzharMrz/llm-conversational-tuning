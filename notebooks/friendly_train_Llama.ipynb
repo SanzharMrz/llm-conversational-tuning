{
 "cells": [
  {
   "cell_type": "code",
   "execution_count": 1,
   "id": "f44d9049",
   "metadata": {
    "tags": []
   },
   "outputs": [],
   "source": [
    "import glob"
   ]
  },
  {
   "cell_type": "code",
   "execution_count": 2,
   "id": "bfea7fdf",
   "metadata": {
    "tags": []
   },
   "outputs": [],
   "source": [
    "DATA_PATH = \"../data/eva/\"\n",
    "\n",
    "import os\n",
    "\n",
    "os.environ[\"CUDA_DEVICE_ORDER\"] = \"PCI_BUS_ID\"  # see issue #152\n",
    "os.environ[\"CUDA_VISIBLE_DEVICES\"] = \"0\""
   ]
  },
  {
   "cell_type": "code",
   "execution_count": 4,
   "id": "aacc43ae",
   "metadata": {
    "tags": []
   },
   "outputs": [],
   "source": [
    "TEST_TXT = f\"{DATA_PATH}clean/test.txt\"\n",
    "TRAIN_TXT = f\"{DATA_PATH}clean/train.txt\"\n",
    "OLD_TXT = TRAIN_TXT\n",
    "\n",
    "train_paths = glob.glob(f\"{DATA_PATH}proc/*.txt\")\n",
    "test_path = f\"{DATA_PATH}proc/test/test_once_dataset_2x.txt\"\n",
    "\n",
    "train_txt = \"\"\n",
    "length = {}\n",
    "for path in train_paths:\n",
    "    with open(path, \"r\") as f:\n",
    "        text = f.read()\n",
    "        text = text.replace(\"\\n\\n\", \"\\n\").replace(\"\\n\\n\", \"\\n\")\n",
    "        length[path.split(\"/\")[-1].split(\".\")[0]] = len(text.split(\"\\n\"))\n",
    "        train_txt += text\n",
    "with open(TRAIN_TXT, \"w\") as f:\n",
    "    f.write(train_txt)\n",
    "\n",
    "with open(test_path, \"r\") as f:\n",
    "    text = f.read()\n",
    "    text = text.replace(\"\\n\\n\", \"\\n\").replace(\"\\n\\n\", \"\\n\")\n",
    "\n",
    "\n",
    "with open(TEST_TXT, \"w\") as f:\n",
    "    f.write(text)\n",
    "\n",
    "with open(TRAIN_TXT, \"r\") as f:\n",
    "    text = f.read()\n",
    "    dialogs = [d.split(\"\\n\") for d in text.split(\"<s>\") if d]\n",
    "    dialogs = [\"\\n\".join([d[0]] + [\"\"] + d[1:]) for d in dialogs]\n",
    "    text = \"<s>\".join(dialogs)\n",
    "\n",
    "with open(TRAIN_TXT, \"w\") as f:\n",
    "    f.write(text)\n",
    "\n",
    "with open(TEST_TXT, \"r\") as f:\n",
    "    text = f.read()\n",
    "    dialogs = [d.split(\"\\n\") for d in text.split(\"<s>\") if d]\n",
    "    dialogs = [\"\\n\".join([d[0]] + [\"\"] + d[1:]) for d in dialogs]\n",
    "    text = \"<s>\".join(dialogs)\n",
    "\n",
    "with open(TEST_TXT, \"w\") as f:\n",
    "    f.write(text)"
   ]
  },
  {
   "cell_type": "code",
   "execution_count": 5,
   "id": "2ff05339",
   "metadata": {
    "tags": []
   },
   "outputs": [
    {
     "data": {
      "image/png": "[encoded data removed]",
      "text/plain": [
       "<Figure size 640x480 with 1 Axes>"
      ]
     },
     "metadata": {},
     "output_type": "display_data"
    }
   ],
   "source": [
    "import matplotlib.pyplot as plt\n",
    "%matplotlib inline\n",
    "\n",
    "names = list(length.keys())\n",
    "values = list(length.values())\n",
    "\n",
    "# Creating the bar plot\n",
    "# plt.figure(figsize=(10,5))\n",
    "plt.bar(names, values, color='blue')\n",
    "\n",
    "plt.xlabel('File Names')\n",
    "plt.ylabel('Number of line')\n",
    "plt.title('Dataset composition')\n",
    "plt.xticks(rotation=90)  # Rotate labels for better readability\n",
    "plt.show()"
   ]
  },
  {
   "cell_type": "code",
   "execution_count": 5,
   "id": "6408767e",
   "metadata": {
    "tags": []
   },
   "outputs": [
    {
     "name": "stderr",
     "output_type": "stream",
     "text": [
      "/home/smurzakhmetov/anaconda3/envs/llama_stable/lib/python3.9/site-packages/tqdm/auto.py:21: TqdmWarning: IProgress not found. Please update jupyter and ipywidgets. See https://ipywidgets.readthedocs.io/en/stable/user_install.html\n",
      "  from .autonotebook import tqdm as notebook_tqdm\n"
     ]
    }
   ],
   "source": [
    "import torch\n",
    "import torch.nn as nn\n",
    "from transformers import GPT2LMHeadModel, GPT2Tokenizer\n",
    "from transformers import AutoTokenizer, AutoModelForCausalLM\n",
    "\n",
    "from torch.optim import Optimizer\n",
    "from typing import Callable, Iterable, Tuple\n",
    "from torch.distributions.bernoulli import Bernoulli\n",
    "import math\n",
    "\n",
    "import os"
   ]
  },
  {
   "cell_type": "code",
   "execution_count": 6,
   "id": "e98c47b9",
   "metadata": {
    "tags": []
   },
   "outputs": [
    {
     "data": {
      "text/plain": [
       "True"
      ]
     },
     "execution_count": 6,
     "metadata": {},
     "output_type": "execute_result"
    }
   ],
   "source": [
    "torch.cuda.is_available()"
   ]
  },
  {
   "cell_type": "code",
   "execution_count": 7,
   "id": "0606a57b-481e-464a-8aad-759014578ba1",
   "metadata": {
    "tags": []
   },
   "outputs": [],
   "source": [
    "name = \"TheBloke/Llama-2-7B-fp16\"\n",
    "DATA_PATH = \"../data/\"\n",
    "TRAIN_TXT = f\"{DATA_PATH}/clean/train.txt\"\n",
    "\n",
    "\n",
    "with open(TEST_TXT, \"r\") as f:\n",
    "    text = f.read()\n",
    "    text = text.replace(\"<|endoftext|>\", \"<s> \")\n",
    "    text = text.replace(\"\\n\\n\", \"\\n\").replace(\"\\n\\n\", \"\\n\")\n",
    "\n",
    "with open(TEST_TXT, \"w\") as f:\n",
    "    f.write(text)\n",
    "\n",
    "\n",
    "with open(TRAIN_TXT, \"r\") as f:\n",
    "    text = f.read()\n",
    "    text = text.replace(\"<|endoftext|>\", \"<s> \")\n",
    "    text = text.replace(\"\\n\\n\", \"\\n\").replace(\"\\n\\n\", \"\\n\")\n",
    "\n",
    "with open(TRAIN_TXT, \"w\") as f:\n",
    "    f.write(text)"
   ]
  },
  {
   "cell_type": "markdown",
   "id": "e6284cb6",
   "metadata": {},
   "source": [
    "### Prepare data for training"
   ]
  },
  {
   "cell_type": "code",
   "execution_count": 8,
   "id": "a1e6fee2",
   "metadata": {
    "tags": []
   },
   "outputs": [
    {
     "name": "stderr",
     "output_type": "stream",
     "text": [
      "Loading checkpoint shards:   0%|                                                                                                                                                                                                                                                                    | 0/2 [00:00<?, ?it/s]/home/smurzakhmetov/anaconda3/envs/llama_stable/lib/python3.9/site-packages/torch/_utils.py:831: UserWarning: TypedStorage is deprecated. It will be removed in the future and UntypedStorage will be the only storage class. This should only matter to you if you are using storages directly.  To access UntypedStorage directly, use tensor.untyped_storage() instead of tensor.storage()\n",
      "  return self.fget.__get__(instance, owner)()\n",
      "Loading checkpoint shards: 100%|████████████████████████████████████████████████████████████████████████████████████████████████████████████████████████████████████████████████████████████████████████████████████████████████████████████████████████████████████████████████████████████| 2/2 [00:02<00:00,  1.10s/it]\n"
     ]
    }
   ],
   "source": [
    "from transformers import AutoTokenizer, AutoModelForCausalLM\n",
    "\n",
    "tokenizer = AutoTokenizer.from_pretrained(name)\n",
    "model = AutoModelForCausalLM.from_pretrained(name).half()"
   ]
  },
  {
   "cell_type": "markdown",
   "id": "adc4c21f",
   "metadata": {},
   "source": [
    "# Optimizer"
   ]
  },
  {
   "cell_type": "markdown",
   "id": "46300776",
   "metadata": {},
   "source": [
    "# Freezing"
   ]
  },
  {
   "cell_type": "code",
   "execution_count": 9,
   "id": "a95919cd-61a0-408a-94e2-708e8497b8ea",
   "metadata": {
    "tags": []
   },
   "outputs": [],
   "source": [
    "from torch.utils.data import Dataset\n",
    "import random\n",
    "\n",
    "\n",
    "class MyDataset:\n",
    "    def __init__(self, path):\n",
    "        super().__init__()\n",
    "        with open(path) as f:\n",
    "            text = f.read()\n",
    "        dialogs = text.split(\"<s> \")\n",
    "        dialogs = [\"<s> \" + \"\\n\".join(dialog.strip(\" \").split(\"\\n\")[1:]) for dialog in dialogs if len(dialog) > 100]\n",
    "        # for i in range(len(dialogs)):\n",
    "        #     if dialogs[i][-1] != \"\\n\":\n",
    "        #         dialogs[i] = dialogs[i] + \"\\n\"\n",
    "        self.dialogs = dialogs\n",
    "\n",
    "    def __len__(self):\n",
    "        return len(self.dialogs)\n",
    "\n",
    "    def __getitem__(self, i):\n",
    "        dialog = self.dialogs[i]\n",
    "        # print(dialog)\n",
    "        tokens = tokenizer.encode(dialog, add_special_tokens=False, return_tensors=\"pt\")\n",
    "        # print(tokens)\n",
    "        N = random.choice([2048])\n",
    "        if len(tokens[0]) > N:\n",
    "            # print(\"AAA\")\n",
    "            dialog_lines = dialog.split(\"\\n\")\n",
    "            prompt = dialog_lines[0:1]\n",
    "            lines = dialog_lines[1:]\n",
    "            idx = random.randint(0, len(lines) - 5)\n",
    "            idx = random.choice([0, idx, idx])\n",
    "            new_lines = lines[idx : idx + 5]\n",
    "            dialog = \"\\n\".join(prompt + new_lines)\n",
    "            dialog = \"\\n\".join(prompt + new_lines)\n",
    "            tokens = tokenizer.encode(dialog, add_special_tokens=False, return_tensors=\"pt\")\n",
    "        return tokens[0]"
   ]
  },
  {
   "cell_type": "code",
   "execution_count": 10,
   "id": "8781fe8a-e0b0-4068-9b97-d01e718fc0e0",
   "metadata": {
    "tags": []
   },
   "outputs": [],
   "source": [
    "dataset = MyDataset(TRAIN_TXT)"
   ]
  },
  {
   "cell_type": "code",
   "execution_count": 11,
   "id": "b355fbc5-a694-4720-a2fe-59d88d6ce5bc",
   "metadata": {
    "tags": []
   },
   "outputs": [
    {
     "name": "stderr",
     "output_type": "stream",
     "text": [
      "100%|████████████████████████████████████████████████████████████████████████████████████████████████████████████████████████████████████████████████████████████████████████████████████████████████████████████████████████████████████████████████████████████████████████████████| 1206/1206 [00:07<00:00, 156.91it/s]"
     ]
    },
    {
     "name": "stdout",
     "output_type": "stream",
     "text": [
      "2034\n"
     ]
    },
    {
     "name": "stderr",
     "output_type": "stream",
     "text": [
      "\n"
     ]
    }
   ],
   "source": [
    "from tqdm import tqdm\n",
    "\n",
    "lengths = []\n",
    "for i in tqdm(range(len(dataset)), total=len(dataset)):\n",
    "    lengths.append(len(dataset[i]))\n",
    "print(max(lengths))"
   ]
  },
  {
   "cell_type": "markdown",
   "id": "33483102",
   "metadata": {},
   "source": [
    "# Training args"
   ]
  },
  {
   "cell_type": "code",
   "execution_count": 12,
   "id": "380987ec-e51c-44be-9d50-9488a6116412",
   "metadata": {
    "tags": []
   },
   "outputs": [],
   "source": [
    "from transformers import TextDataset, DataCollatorForLanguageModeling"
   ]
  },
  {
   "cell_type": "code",
   "execution_count": 13,
   "id": "10904a91",
   "metadata": {
    "tags": []
   },
   "outputs": [],
   "source": [
    "args = {\n",
    "    \"epochs\": 1,\n",
    "    \"bs\": 1,\n",
    "    \"warmup\": 0.1,\n",
    "    \"grad_accum\": 1,\n",
    "    \"lr\": 2 * 1e-6,\n",
    "    \"tokens\": 2048,\n",
    "    \"training\": False,\n",
    "}\n",
    "\n",
    "train_dataset = dataset  # TextDataset(tokenizer=tokenizer,file_path=TRAIN_TXT, block_size=args[\"tokens\"])\n",
    "data_collator = DataCollatorForLanguageModeling(tokenizer=tokenizer, mlm=False)\n",
    "\n",
    "model.training = args[\"training\"]\n",
    "# model.to(DEVICE);"
   ]
  },
  {
   "cell_type": "code",
   "execution_count": 14,
   "id": "4a23e915-dff6-49b7-9612-390a7ca6d1de",
   "metadata": {
    "tags": []
   },
   "outputs": [],
   "source": [
    "DEVICE = torch.device(\"cuda:0\")"
   ]
  },
  {
   "cell_type": "code",
   "execution_count": 15,
   "id": "e6dfb359-0777-48e7-8677-0367e9753b76",
   "metadata": {
    "tags": []
   },
   "outputs": [],
   "source": [
    "from torch import nn\n",
    "from transformers import Trainer\n",
    "\n",
    "a = [0]\n",
    "\n",
    "\n",
    "class CustomTrainer(Trainer):\n",
    "    @staticmethod\n",
    "    def subfinder(mylist, start, finish):\n",
    "        matches = []\n",
    "        match = []\n",
    "        for i in range(len(mylist)):\n",
    "            if mylist[i] == start[0] and mylist[i : i + len(start)] == start:\n",
    "                match.append(i + len(start))\n",
    "            if mylist[i] == finish[0] and mylist[i : i + len(finish)] == finish:\n",
    "                match.append(i + len(finish))\n",
    "                if len(match) == 2:\n",
    "                    matches.append(match)\n",
    "                match = []\n",
    "        return matches\n",
    "\n",
    "    def compute_loss(self, model, inputs, return_outputs=False):\n",
    "        labels = inputs.get(\"labels\")\n",
    "        outputs = model(**inputs)\n",
    "        logits = outputs.get(\"logits\")\n",
    "        logits = logits[..., :-1, :].contiguous()\n",
    "        labels = labels[..., 1:].contiguous()\n",
    "        # compute custom loss (suppose one has 3 labels with different weights)\n",
    "        loss_fct = nn.CrossEntropyLoss(reduction=\"none\")\n",
    "        start = [29901]\n",
    "        finish = [13]\n",
    "        # a[0] = [logits, labels]\n",
    "        ids = self.subfinder(list(labels.squeeze(0).cpu().numpy()), start, finish)\n",
    "        mask = torch.zeros(len(labels.squeeze(0))).to(DEVICE)\n",
    "        for i1, i2 in ids:\n",
    "            mask[i1:i2] += 1\n",
    "        if mask.sum() < 1:\n",
    "            mask += 1\n",
    "            print(labels)\n",
    "\n",
    "        # loss = loss_fct(logits.view(-1, self.model.config.vocab_size), labels.view(-1))\n",
    "        loss = loss_fct(logits.view(-1, self.model.config.vocab_size), labels.view(-1).long())\n",
    "\n",
    "        loss *= mask\n",
    "        loss = loss.sum() / mask.sum()\n",
    "        # print(\"C\", loss)\n",
    "        return (loss, outputs) if return_outputs else loss"
   ]
  },
  {
   "cell_type": "markdown",
   "id": "04635efd",
   "metadata": {},
   "source": [
    "# Training "
   ]
  },
  {
   "cell_type": "code",
   "execution_count": 16,
   "id": "8757af58-ce5f-4e3c-9109-3668675e9f7b",
   "metadata": {
    "tags": []
   },
   "outputs": [],
   "source": [
    "if hasattr(model, \"enable_input_require_grads\"):\n",
    "    model.enable_input_require_grads()\n",
    "else:\n",
    "\n",
    "    def make_inputs_require_grad(module, input, output):\n",
    "        output.requires_grad_(True)\n",
    "\n",
    "    model.get_input_embeddings().register_forward_hook(make_inputs_require_grad)"
   ]
  },
  {
   "cell_type": "code",
   "execution_count": 17,
   "id": "b60bdf3b-7d35-487e-8ac5-463fdba4391c",
   "metadata": {
    "tags": []
   },
   "outputs": [
    {
     "data": {
      "text/plain": [
       "LlamaForCausalLM(\n",
       "  (model): LlamaModel(\n",
       "    (embed_tokens): Embedding(32000, 4096, padding_idx=0)\n",
       "    (layers): ModuleList(\n",
       "      (0-31): 32 x LlamaDecoderLayer(\n",
       "        (self_attn): LlamaSdpaAttention(\n",
       "          (q_proj): Linear(in_features=4096, out_features=4096, bias=False)\n",
       "          (k_proj): Linear(in_features=4096, out_features=4096, bias=False)\n",
       "          (v_proj): Linear(in_features=4096, out_features=4096, bias=False)\n",
       "          (o_proj): Linear(in_features=4096, out_features=4096, bias=False)\n",
       "          (rotary_emb): LlamaRotaryEmbedding()\n",
       "        )\n",
       "        (mlp): LlamaMLP(\n",
       "          (gate_proj): Linear(in_features=4096, out_features=11008, bias=False)\n",
       "          (up_proj): Linear(in_features=4096, out_features=11008, bias=False)\n",
       "          (down_proj): Linear(in_features=11008, out_features=4096, bias=False)\n",
       "          (act_fn): SiLU()\n",
       "        )\n",
       "        (input_layernorm): LlamaRMSNorm()\n",
       "        (post_attention_layernorm): LlamaRMSNorm()\n",
       "      )\n",
       "    )\n",
       "    (norm): LlamaRMSNorm()\n",
       "  )\n",
       "  (lm_head): Linear(in_features=4096, out_features=32000, bias=False)\n",
       ")"
      ]
     },
     "execution_count": 17,
     "metadata": {},
     "output_type": "execute_result"
    }
   ],
   "source": [
    "model"
   ]
  },
  {
   "cell_type": "code",
   "execution_count": 18,
   "id": "20baf6ae-2f13-4862-90cb-1f78f2d7d2d1",
   "metadata": {
    "tags": []
   },
   "outputs": [],
   "source": [
    "unfreeze = [\"self_attn\", \"mlp\", \"input_layernorm\"]  # ['q_proj', 'k_proj', 'v_proj', 'o_proj', 'gate_proj', 'up_proj']\n",
    "\n",
    "\n",
    "def freeze(model, unfreeze):\n",
    "    for name, p in model.named_parameters():\n",
    "        name = name.lower()\n",
    "        p.requires_grad = False\n",
    "        for target in unfreeze:\n",
    "            if target in name:\n",
    "                p.requires_grad = True\n",
    "    return model\n",
    "\n",
    "\n",
    "model = freeze(model, unfreeze)"
   ]
  },
  {
   "cell_type": "code",
   "execution_count": 19,
   "id": "2c8a8ff4-2f4d-4b36-9b6f-0d4b6dcc5077",
   "metadata": {
    "tags": []
   },
   "outputs": [],
   "source": [
    "from transformers import Trainer, TrainingArguments"
   ]
  },
  {
   "cell_type": "code",
   "execution_count": 20,
   "id": "112a18e4",
   "metadata": {
    "tags": []
   },
   "outputs": [
    {
     "name": "stderr",
     "output_type": "stream",
     "text": [
      "Detected kernel version 5.4.0, which is below the recommended minimum of 5.5.0; this can cause the process to hang. It is recommended to upgrade the kernel to the minimum version or higher.\n"
     ]
    }
   ],
   "source": [
    "path = \"checkpoints/\"\n",
    "training_args = TrainingArguments(\n",
    "    do_train=True,\n",
    "    do_eval=True,\n",
    "    do_predict=True,\n",
    "    gradient_checkpointing=True,\n",
    "    output_dir=path,\n",
    "    overwrite_output_dir=True,\n",
    "    num_train_epochs=args[\"epochs\"],\n",
    "    per_device_train_batch_size=args[\"bs\"],\n",
    "    per_device_eval_batch_size=args[\"bs\"],\n",
    "    warmup_ratio=args[\"warmup\"],\n",
    "    gradient_accumulation_steps=args[\"grad_accum\"],\n",
    "    optim=\"adafactor\",\n",
    "    learning_rate=args[\"lr\"],\n",
    "    # use_cache = False,\n",
    "    logging_steps=250,\n",
    "    save_steps=250,\n",
    "    # eval_steps = 250,\n",
    "    # evaluation_strategy=\"steps\",\n",
    "    fp16=False,\n",
    ")\n",
    "\n",
    "\n",
    "trainer = CustomTrainer(\n",
    "    model=model,\n",
    "    args=training_args,\n",
    "    data_collator=data_collator,\n",
    "    train_dataset=train_dataset,\n",
    ")"
   ]
  },
  {
   "cell_type": "code",
   "execution_count": 21,
   "id": "44843cdc",
   "metadata": {
    "tags": []
   },
   "outputs": [
    {
     "name": "stderr",
     "output_type": "stream",
     "text": [
      "`use_cache=True` is incompatible with gradient checkpointing. Setting `use_cache=False`...\n",
      "/home/smurzakhmetov/anaconda3/envs/llama_stable/lib/python3.9/site-packages/torch/utils/checkpoint.py:429: UserWarning: torch.utils.checkpoint: please pass in use_reentrant=True or use_reentrant=False explicitly. The default value of use_reentrant will be updated to be False in the future. To maintain current behavior, pass use_reentrant=True. It is recommended that you use use_reentrant=False. Refer to docs for more details on the differences between the two variants.\n",
      "  warnings.warn(\n"
     ]
    },
    {
     "data": {
      "text/html": [
       "\n",
       "    <div>\n",
       "      \n",
       "      <progress value='1206' max='1206' style='width:300px; height:20px; vertical-align: middle;'></progress>\n",
       "      [1206/1206 32:47, Epoch 1/1]\n",
       "    </div>\n",
       "    <table border=\"1\" class=\"dataframe\">\n",
       "  <thead>\n",
       " <tr style=\"text-align: left;\">\n",
       "      <th>Step</th>\n",
       "      <th>Training Loss</th>\n",
       "    </tr>\n",
       "  </thead>\n",
       "  <tbody>\n",
       "    <tr>\n",
       "      <td>250</td>\n",
       "      <td>1.987100</td>\n",
       "    </tr>\n",
       "    <tr>\n",
       "      <td>500</td>\n",
       "      <td>1.879300</td>\n",
       "    </tr>\n",
       "    <tr>\n",
       "      <td>750</td>\n",
       "      <td>1.812500</td>\n",
       "    </tr>\n",
       "    <tr>\n",
       "      <td>1000</td>\n",
       "      <td>1.773100</td>\n",
       "    </tr>\n",
       "  </tbody>\n",
       "</table><p>"
      ],
      "text/plain": [
       "<IPython.core.display.HTML object>"
      ]
     },
     "metadata": {},
     "output_type": "display_data"
    },
    {
     "name": "stderr",
     "output_type": "stream",
     "text": [
      "Checkpoint destination directory checkpoints/checkpoint-250 already exists and is non-empty.Saving will proceed but saved results may be invalid.\n",
      "/home/smurzakhmetov/anaconda3/envs/llama_stable/lib/python3.9/site-packages/torch/utils/checkpoint.py:429: UserWarning: torch.utils.checkpoint: please pass in use_reentrant=True or use_reentrant=False explicitly. The default value of use_reentrant will be updated to be False in the future. To maintain current behavior, pass use_reentrant=True. It is recommended that you use use_reentrant=False. Refer to docs for more details on the differences between the two variants.\n",
      "  warnings.warn(\n"
     ]
    },
    {
     "name": "stdout",
     "output_type": "stream",
     "text": [
      "tensor([[29871]], device='cuda:0')\n"
     ]
    },
    {
     "name": "stderr",
     "output_type": "stream",
     "text": [
      "Checkpoint destination directory checkpoints/checkpoint-500 already exists and is non-empty.Saving will proceed but saved results may be invalid.\n",
      "/home/smurzakhmetov/anaconda3/envs/llama_stable/lib/python3.9/site-packages/torch/utils/checkpoint.py:429: UserWarning: torch.utils.checkpoint: please pass in use_reentrant=True or use_reentrant=False explicitly. The default value of use_reentrant will be updated to be False in the future. To maintain current behavior, pass use_reentrant=True. It is recommended that you use use_reentrant=False. Refer to docs for more details on the differences between the two variants.\n",
      "  warnings.warn(\n"
     ]
    },
    {
     "name": "stdout",
     "output_type": "stream",
     "text": [
      "tensor([[29871]], device='cuda:0')\n",
      "tensor([[29871]], device='cuda:0')\n"
     ]
    },
    {
     "name": "stderr",
     "output_type": "stream",
     "text": [
      "Checkpoint destination directory checkpoints/checkpoint-750 already exists and is non-empty.Saving will proceed but saved results may be invalid.\n",
      "/home/smurzakhmetov/anaconda3/envs/llama_stable/lib/python3.9/site-packages/torch/utils/checkpoint.py:429: UserWarning: torch.utils.checkpoint: please pass in use_reentrant=True or use_reentrant=False explicitly. The default value of use_reentrant will be updated to be False in the future. To maintain current behavior, pass use_reentrant=True. It is recommended that you use use_reentrant=False. Refer to docs for more details on the differences between the two variants.\n",
      "  warnings.warn(\n"
     ]
    },
    {
     "name": "stdout",
     "output_type": "stream",
     "text": [
      "tensor([[29871]], device='cuda:0')\n",
      "tensor([[29871]], device='cuda:0')\n"
     ]
    },
    {
     "name": "stderr",
     "output_type": "stream",
     "text": [
      "Checkpoint destination directory checkpoints/checkpoint-1000 already exists and is non-empty.Saving will proceed but saved results may be invalid.\n",
      "/home/smurzakhmetov/anaconda3/envs/llama_stable/lib/python3.9/site-packages/torch/utils/checkpoint.py:429: UserWarning: torch.utils.checkpoint: please pass in use_reentrant=True or use_reentrant=False explicitly. The default value of use_reentrant will be updated to be False in the future. To maintain current behavior, pass use_reentrant=True. It is recommended that you use use_reentrant=False. Refer to docs for more details on the differences between the two variants.\n",
      "  warnings.warn(\n"
     ]
    }
   ],
   "source": [
    "output = trainer.train()"
   ]
  },
  {
   "cell_type": "code",
   "execution_count": 22,
   "id": "e6ecda21-2d43-4d67-8ba6-855a4b524198",
   "metadata": {
    "tags": []
   },
   "outputs": [],
   "source": [
    "name = \"llama-v2-base-dataset-no-system-prompt\"\n",
    "save_params = {\n",
    "    \"type\": f\"fine-tune\",\n",
    "    \"Unfreeze\": unfreeze,\n",
    "    \"datasets\": \"non_toxic.txt\",\n",
    "    \"params\": args,\n",
    "    \"loss\": str(output),\n",
    "}\n",
    "\n",
    "import json\n",
    "\n",
    "model.eval().save_pretrained(name)\n",
    "tokenizer.save_pretrained(name)\n",
    "# model.base_model.eval().save_pretrained(name)\n",
    "\n",
    "with open(f\"./{name}/params.json\", \"w\") as f:\n",
    "    json.dump(save_params, f)"
   ]
  },
  {
   "cell_type": "code",
   "execution_count": 23,
   "id": "fdaf298a-f8d1-446d-9ce4-19d17cee2137",
   "metadata": {},
   "outputs": [
    {
     "ename": "FileNotFoundError",
     "evalue": "[Errno 2] No such file or directory: '1x-mini.txt'",
     "output_type": "error",
     "traceback": [
      "\u001b[0;31m---------------------------------------------------------------------------\u001b[0m",
      "\u001b[0;31mFileNotFoundError\u001b[0m                         Traceback (most recent call last)",
      "Cell \u001b[0;32mIn[23], line 1\u001b[0m\n\u001b[0;32m----> 1\u001b[0m \u001b[38;5;28;01mwith\u001b[39;00m \u001b[38;5;28;43mopen\u001b[39;49m\u001b[43m(\u001b[49m\u001b[38;5;124;43m'\u001b[39;49m\u001b[38;5;124;43m1x-mini.txt\u001b[39;49m\u001b[38;5;124;43m'\u001b[39;49m\u001b[43m,\u001b[49m\u001b[43m \u001b[49m\u001b[38;5;124;43m'\u001b[39;49m\u001b[38;5;124;43mr\u001b[39;49m\u001b[38;5;124;43m'\u001b[39;49m\u001b[43m)\u001b[49m \u001b[38;5;28;01mas\u001b[39;00m f:\n\u001b[1;32m      2\u001b[0m     text \u001b[38;5;241m=\u001b[39m f\u001b[38;5;241m.\u001b[39mread()\n\u001b[1;32m      3\u001b[0m     text \u001b[38;5;241m=\u001b[39m text\u001b[38;5;241m.\u001b[39mreplace(\u001b[38;5;124m'\u001b[39m\u001b[38;5;124m<|endoftext|>\u001b[39m\u001b[38;5;124m'\u001b[39m, \u001b[38;5;124m'\u001b[39m\u001b[38;5;124m<s> \u001b[39m\u001b[38;5;124m'\u001b[39m)\n",
      "File \u001b[0;32m~/anaconda3/envs/llama_stable/lib/python3.9/site-packages/IPython/core/interactiveshell.py:310\u001b[0m, in \u001b[0;36m_modified_open\u001b[0;34m(file, *args, **kwargs)\u001b[0m\n\u001b[1;32m    303\u001b[0m \u001b[38;5;28;01mif\u001b[39;00m file \u001b[38;5;129;01min\u001b[39;00m {\u001b[38;5;241m0\u001b[39m, \u001b[38;5;241m1\u001b[39m, \u001b[38;5;241m2\u001b[39m}:\n\u001b[1;32m    304\u001b[0m     \u001b[38;5;28;01mraise\u001b[39;00m \u001b[38;5;167;01mValueError\u001b[39;00m(\n\u001b[1;32m    305\u001b[0m         \u001b[38;5;124mf\u001b[39m\u001b[38;5;124m\"\u001b[39m\u001b[38;5;124mIPython won\u001b[39m\u001b[38;5;124m'\u001b[39m\u001b[38;5;124mt let you open fd=\u001b[39m\u001b[38;5;132;01m{\u001b[39;00mfile\u001b[38;5;132;01m}\u001b[39;00m\u001b[38;5;124m by default \u001b[39m\u001b[38;5;124m\"\u001b[39m\n\u001b[1;32m    306\u001b[0m         \u001b[38;5;124m\"\u001b[39m\u001b[38;5;124mas it is likely to crash IPython. If you know what you are doing, \u001b[39m\u001b[38;5;124m\"\u001b[39m\n\u001b[1;32m    307\u001b[0m         \u001b[38;5;124m\"\u001b[39m\u001b[38;5;124myou can use builtins\u001b[39m\u001b[38;5;124m'\u001b[39m\u001b[38;5;124m open.\u001b[39m\u001b[38;5;124m\"\u001b[39m\n\u001b[1;32m    308\u001b[0m     )\n\u001b[0;32m--> 310\u001b[0m \u001b[38;5;28;01mreturn\u001b[39;00m \u001b[43mio_open\u001b[49m\u001b[43m(\u001b[49m\u001b[43mfile\u001b[49m\u001b[43m,\u001b[49m\u001b[43m \u001b[49m\u001b[38;5;241;43m*\u001b[39;49m\u001b[43margs\u001b[49m\u001b[43m,\u001b[49m\u001b[43m \u001b[49m\u001b[38;5;241;43m*\u001b[39;49m\u001b[38;5;241;43m*\u001b[39;49m\u001b[43mkwargs\u001b[49m\u001b[43m)\u001b[49m\n",
      "\u001b[0;31mFileNotFoundError\u001b[0m: [Errno 2] No such file or directory: '1x-mini.txt'"
     ]
    }
   ],
   "source": [
    "with open(\"../1x-mini.txt\", \"r\") as f:\n",
    "    text = f.read()\n",
    "    text = text.replace(\"<|endoftext|>\", \"<s> \")\n",
    "dialogs = text.split(\"<s> \")[1:]\n",
    "\n",
    "\n",
    "def evaluate_bleu_score(gold_caps, predictions, ngram=4):\n",
    "    bleu_scores = []\n",
    "\n",
    "    for reference_captions, pred_caption in zip(gold_caps, predictions):\n",
    "        # Tokenize the reference and predicted captions\n",
    "        tokenized_references = [nltk.word_tokenize(ref.lower()) for ref in reference_captions]\n",
    "        tokenized_pred = nltk.word_tokenize(pred_caption.lower())\n",
    "\n",
    "        # Compute the BLEU score for the prediction\n",
    "        bleu_score = nltk.translate.bleu_score.sentence_bleu(\n",
    "            tokenized_references, tokenized_pred, weights=[1 / ngram] * ngram\n",
    "        )\n",
    "        bleu_scores.append(bleu_score)\n",
    "\n",
    "    # Calculate the average BLEU score\n",
    "    avg_bleu = sum(bleu_scores) / len(bleu_scores)\n",
    "    return avg_bleu\n",
    "\n",
    "\n",
    "true_answers = []\n",
    "generated_answers = []\n",
    "\n",
    "for dialog in tqdm(dialogs):\n",
    "    input_text, cat_reply = dialog.split(f\"{NAME}: \")\n",
    "\n",
    "    input_text += f\"{NAME}:\"\n",
    "    input_ids = tokenizer.encode(input_text, return_tensors=\"pt\").to(model.device)\n",
    "    length = input_ids.shape[1]\n",
    "    with torch.no_grad():\n",
    "        out = model.generate(\n",
    "            input_ids=input_ids,\n",
    "            **high_params1,\n",
    "        )\n",
    "\n",
    "    generated = tokenizer.batch_decode(out[:, length:])  # tokenizer.decode(out[0][length:]).strip()\n",
    "    generated = [text.strip() for text in generated]\n",
    "    generated_answers += generated\n",
    "    true_answers += [[cat_reply.strip()]] * len(generated)\n",
    "\n",
    "\n",
    "bleu_1 = evaluate_bleu_score(true_answers, generated_answers, ngram=1)\n",
    "bleu_2 = evaluate_bleu_score(true_answers, generated_answers, ngram=2)\n",
    "bleu_3 = evaluate_bleu_score(true_answers, generated_answers, ngram=3)\n",
    "bleu_4 = evaluate_bleu_score(true_answers, generated_answers, ngram=4)\n",
    "\n",
    "\n",
    "with open(\"1x-super.txt\", \"r\") as f:\n",
    "    text = f.read()\n",
    "    text = text.replace(\"<|endoftext|>\", \"<s> \")\n",
    "    dialogs = text.split(\"<s> \")[1:]\n",
    "\n",
    "true_answers = []\n",
    "generated_answers = []\n",
    "\n",
    "for dialog in dialogs:\n",
    "    lines = dialog.split(\"\\n\")[:-1]\n",
    "    for i in tqdm(range(1, len(lines) - 1, 2)):\n",
    "        lines_part = lines[0:i]\n",
    "        lines_part = [lines_part[0]] + lines_part[-7:]\n",
    "        input_text = \"\\n\".join(lines_part) + f\"\\n{NAME}:\"\n",
    "        cat_reply = lines[i].split(f\"{NAME}: \")[1].strip()\n",
    "        input_ids = tokenizer.encode(input_text, return_tensors=\"pt\").to(model.device)\n",
    "        length = input_ids.shape[1]\n",
    "        with torch.no_grad():\n",
    "            out = model.generate(\n",
    "                input_ids=input_ids,\n",
    "                **high_params1,\n",
    "            )\n",
    "\n",
    "        generated = tokenizer.batch_decode(out[:, length:])  # tokenizer.decode(out[0][length:]).strip()\n",
    "        generated = [text.strip() for text in generated]\n",
    "        generated_answers += generated\n",
    "        true_answers += [[cat_reply.strip()]] * len(generated)\n",
    "\n",
    "\n",
    "super_bleu_1 = evaluate_bleu_score(true_answers, generated_answers, ngram=1)\n",
    "super_bleu_2 = evaluate_bleu_score(true_answers, generated_answers, ngram=2)\n",
    "super_bleu_3 = evaluate_bleu_score(true_answers, generated_answers, ngram=3)\n",
    "super_bleu_4 = evaluate_bleu_score(true_answers, generated_answers, ngram=4)\n",
    "\n",
    "print(\n",
    "    {\n",
    "        \"bleu-1\": bleu_1,\n",
    "        \"bleu-2\": bleu_2,\n",
    "        \"bleu-3\": bleu_3,\n",
    "        \"bleu-4\": bleu_4,\n",
    "        \"super_bleu-1\": super_bleu_1,\n",
    "        \"super_bleu-2\": super_bleu_2,\n",
    "        \"super_bleu-3\": super_bleu_3,\n",
    "        \"super_bleu-4\": super_bleu_4,\n",
    "    }\n",
    ")"
   ]
  },
  {
   "cell_type": "code",
   "execution_count": null,
   "id": "d26c6261-34d4-466f-abac-6a881140e68c",
   "metadata": {},
   "outputs": [],
   "source": []
  }
 ],
 "metadata": {
  "kernelspec": {
   "display_name": "once_train",
   "language": "python",
   "name": "python3"
  },
  "language_info": {
   "codemirror_mode": {
    "name": "ipython",
    "version": 3
   },
   "file_extension": ".py",
   "mimetype": "text/x-python",
   "name": "python",
   "nbconvert_exporter": "python",
   "pygments_lexer": "ipython3",
   "version": "3.11.5"
  }
 },
 "nbformat": 4,
 "nbformat_minor": 5
}
