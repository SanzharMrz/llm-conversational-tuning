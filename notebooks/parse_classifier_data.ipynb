{
 "cells": [
  {
   "cell_type": "code",
   "execution_count": 14,
   "metadata": {},
   "outputs": [],
   "source": [
    "import pandas as pd\n",
    "import numpy as np\n",
    "\n",
    "from langdetect import detect\n",
    "import tqdm"
   ]
  },
  {
   "cell_type": "code",
   "execution_count": 43,
   "metadata": {},
   "outputs": [
    {
     "data": {
      "text/html": [
       "<div>\n",
       "<style scoped>\n",
       "    .dataframe tbody tr th:only-of-type {\n",
       "        vertical-align: middle;\n",
       "    }\n",
       "\n",
       "    .dataframe tbody tr th {\n",
       "        vertical-align: top;\n",
       "    }\n",
       "\n",
       "    .dataframe thead th {\n",
       "        text-align: right;\n",
       "    }\n",
       "</style>\n",
       "<table border=\"1\" class=\"dataframe\">\n",
       "  <thead>\n",
       "    <tr style=\"text-align: right;\">\n",
       "      <th></th>\n",
       "      <th>text</th>\n",
       "      <th>Flirt</th>\n",
       "      <th>Social Network</th>\n",
       "      <th>Request/Invite to Meet/Date</th>\n",
       "      <th>Request for Phone Number</th>\n",
       "      <th>Normal Response/Question/Sentence</th>\n",
       "      <th>session_id</th>\n",
       "    </tr>\n",
       "  </thead>\n",
       "  <tbody>\n",
       "    <tr>\n",
       "      <th>0</th>\n",
       "      <td>hah, we need our rest so we can go wild</td>\n",
       "      <td>0.356138</td>\n",
       "      <td>0.184912</td>\n",
       "      <td>0.181820</td>\n",
       "      <td>0.143495</td>\n",
       "      <td>0.133634</td>\n",
       "      <td>94075319153</td>\n",
       "    </tr>\n",
       "    <tr>\n",
       "      <th>1</th>\n",
       "      <td>that would be fun, I like naps baby, u know it</td>\n",
       "      <td>0.314385</td>\n",
       "      <td>0.083779</td>\n",
       "      <td>0.227397</td>\n",
       "      <td>0.077000</td>\n",
       "      <td>0.297439</td>\n",
       "      <td>94075319153</td>\n",
       "    </tr>\n",
       "    <tr>\n",
       "      <th>2</th>\n",
       "      <td>oh baby I would slide my cock deep inside u, j...</td>\n",
       "      <td>0.436363</td>\n",
       "      <td>0.114463</td>\n",
       "      <td>0.198143</td>\n",
       "      <td>0.076235</td>\n",
       "      <td>0.174796</td>\n",
       "      <td>94075319153</td>\n",
       "    </tr>\n",
       "    <tr>\n",
       "      <th>3</th>\n",
       "      <td>oh that would make it even easier haha</td>\n",
       "      <td>0.278040</td>\n",
       "      <td>0.156456</td>\n",
       "      <td>0.235906</td>\n",
       "      <td>0.172829</td>\n",
       "      <td>0.156770</td>\n",
       "      <td>94075319153</td>\n",
       "    </tr>\n",
       "    <tr>\n",
       "      <th>4</th>\n",
       "      <td>damn baby, does that make u feel sexy</td>\n",
       "      <td>0.565976</td>\n",
       "      <td>0.087618</td>\n",
       "      <td>0.154389</td>\n",
       "      <td>0.084188</td>\n",
       "      <td>0.107829</td>\n",
       "      <td>94075319153</td>\n",
       "    </tr>\n",
       "  </tbody>\n",
       "</table>\n",
       "</div>"
      ],
      "text/plain": [
       "                                                text     Flirt  \\\n",
       "0            hah, we need our rest so we can go wild  0.356138   \n",
       "1     that would be fun, I like naps baby, u know it  0.314385   \n",
       "2  oh baby I would slide my cock deep inside u, j...  0.436363   \n",
       "3             oh that would make it even easier haha  0.278040   \n",
       "4              damn baby, does that make u feel sexy  0.565976   \n",
       "\n",
       "   Social Network  Request/Invite to Meet/Date  Request for Phone Number  \\\n",
       "0        0.184912                     0.181820                  0.143495   \n",
       "1        0.083779                     0.227397                  0.077000   \n",
       "2        0.114463                     0.198143                  0.076235   \n",
       "3        0.156456                     0.235906                  0.172829   \n",
       "4        0.087618                     0.154389                  0.084188   \n",
       "\n",
       "   Normal Response/Question/Sentence   session_id  \n",
       "0                           0.133634  94075319153  \n",
       "1                           0.297439  94075319153  \n",
       "2                           0.174796  94075319153  \n",
       "3                           0.156770  94075319153  \n",
       "4                           0.107829  94075319153  "
      ]
     },
     "execution_count": 43,
     "metadata": {},
     "output_type": "execute_result"
    }
   ],
   "source": [
    "data_path = \"../data/once_dialogues/scored_data.csv\"\n",
    "\n",
    "data = pd.read_csv(data_path)\n",
    "cols = list(data.columns)[1:]\n",
    "data = data[cols]\n",
    "data = data[data[\"text\"].apply(lambda x: len(x) > 5)]\n",
    "data.head()"
   ]
  },
  {
   "cell_type": "code",
   "execution_count": 44,
   "metadata": {},
   "outputs": [
    {
     "data": {
      "text/plain": [
       "['text',\n",
       " 'Flirt',\n",
       " 'Social Network',\n",
       " 'Request/Invite to Meet/Date',\n",
       " 'Request for Phone Number',\n",
       " 'Normal Response/Question/Sentence',\n",
       " 'session_id']"
      ]
     },
     "execution_count": 44,
     "metadata": {},
     "output_type": "execute_result"
    }
   ],
   "source": [
    "cols"
   ]
  },
  {
   "cell_type": "code",
   "execution_count": 45,
   "metadata": {},
   "outputs": [
    {
     "name": "stderr",
     "output_type": "stream",
     "text": [
      "100%|██████████| 3264/3264 [00:15<00:00, 215.67it/s]\n"
     ]
    },
    {
     "name": "stdout",
     "output_type": "stream",
     "text": [
      "Flirt (2000, 4)\n"
     ]
    },
    {
     "name": "stderr",
     "output_type": "stream",
     "text": [
      "100%|██████████| 162/162 [00:00<00:00, 224.81it/s]\n"
     ]
    },
    {
     "name": "stdout",
     "output_type": "stream",
     "text": [
      "Social Network (100, 4)\n"
     ]
    },
    {
     "name": "stderr",
     "output_type": "stream",
     "text": [
      " 27%|██▋       | 424/1579 [00:01<00:03, 299.72it/s]"
     ]
    },
    {
     "name": "stderr",
     "output_type": "stream",
     "text": [
      "100%|██████████| 1579/1579 [00:05<00:00, 288.38it/s]\n"
     ]
    },
    {
     "name": "stdout",
     "output_type": "stream",
     "text": [
      "Request/Invite to Meet/Date (800, 4)\n"
     ]
    },
    {
     "name": "stderr",
     "output_type": "stream",
     "text": [
      "100%|██████████| 584/584 [00:02<00:00, 213.17it/s]\n"
     ]
    },
    {
     "name": "stdout",
     "output_type": "stream",
     "text": [
      "Request for Phone Number (450, 4)\n"
     ]
    },
    {
     "name": "stderr",
     "output_type": "stream",
     "text": [
      "100%|██████████| 16268/16268 [00:57<00:00, 282.23it/s]"
     ]
    },
    {
     "name": "stdout",
     "output_type": "stream",
     "text": [
      "Normal Response/Question/Sentence (2000, 4)\n"
     ]
    },
    {
     "name": "stderr",
     "output_type": "stream",
     "text": [
      "\n"
     ]
    }
   ],
   "source": [
    "one_col_data = {}\n",
    "stats = {}\n",
    "\n",
    "col_names = [\n",
    "    \"Flirt\",\n",
    "    \"Social Network\",\n",
    "    \"Request/Invite to Meet/Date\",\n",
    "    \"Request for Phone Number\",\n",
    "    \"Normal Response/Question/Sentence\",\n",
    "]\n",
    "\n",
    "params = {\n",
    "    \"Flirt\": {\"thersholds\": 0.7, \"to_sample\": 2000},\n",
    "    \"Social Network\": {\"thersholds\": 0.4, \"to_sample\": 100},\n",
    "    \"Request/Invite to Meet/Date\": {\"thersholds\": 0.6, \"to_sample\": 800},\n",
    "    \"Request for Phone Number\": {\"thersholds\": 0.5, \"to_sample\": 450},\n",
    "    \"Normal Response/Question/Sentence\": {\"thersholds\": 0.7, \"to_sample\": 2000},\n",
    "}\n",
    "\n",
    "for name in col_names:\n",
    "    one_col_data[name] = data[[\"text\", name, \"session_id\"]].sort_values(name, ascending=False)\n",
    "    one_col_data[name] = one_col_data[name][one_col_data[name][name] > params[name][\"thersholds\"]]\n",
    "    t = [detect(l) for l in tqdm.tqdm(one_col_data[name][\"text\"].tolist())]\n",
    "    one_col_data[name][\"lang\"] = t\n",
    "    one_col_data[name] = one_col_data[name][one_col_data[name][\"lang\"] == \"en\"]\n",
    "    one_col_data[name] = one_col_data[name].sample(n=params[name][\"to_sample\"], random_state=42)\n",
    "    print(name, one_col_data[name].shape)"
   ]
  },
  {
   "cell_type": "code",
   "execution_count": 46,
   "metadata": {},
   "outputs": [],
   "source": [
    "for key in one_col_data:\n",
    "    one_col_data[key] = one_col_data[key].sort_values(key, ascending=False)\n",
    "    one_col_data[key][\"class_name\"] = key\n",
    "    c = [\"text\", \"score\", \"session_id\", \"lang\", \"class_name\"]\n",
    "    one_col_data[key].columns = c\n",
    "    one_col_data[key] = one_col_data[key][[\"session_id\", \"text\", \"lang\", \"class_name\", \"score\"]]"
   ]
  },
  {
   "cell_type": "code",
   "execution_count": 50,
   "metadata": {},
   "outputs": [],
   "source": [
    "new_data = pd.concat([one_col_data[t] for t in one_col_data], ignore_index=True)\n",
    "new_data.to_csv(\"../data/once_dialogues/scored_selected_data.csv\")"
   ]
  },
  {
   "cell_type": "code",
   "execution_count": null,
   "metadata": {},
   "outputs": [],
   "source": []
  }
 ],
 "metadata": {
  "kernelspec": {
   "display_name": "once_train",
   "language": "python",
   "name": "python3"
  },
  "language_info": {
   "codemirror_mode": {
    "name": "ipython",
    "version": 3
   },
   "file_extension": ".py",
   "mimetype": "text/x-python",
   "name": "python",
   "nbconvert_exporter": "python",
   "pygments_lexer": "ipython3",
   "version": "3.11.5"
  }
 },
 "nbformat": 4,
 "nbformat_minor": 2
}
