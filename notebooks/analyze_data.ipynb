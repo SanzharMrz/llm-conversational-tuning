{
 "cells": [
  {
   "cell_type": "code",
   "execution_count": 26,
   "metadata": {},
   "outputs": [],
   "source": [
    "from pathlib import Path\n",
    "import json\n",
    "\n",
    "\n",
    "data_path = Path(\"../data/once_forbidden_topics/json_clean/train_no_topics_instructions.json\")\n",
    "\n",
    "with open(data_path, \"r\", encoding=\"utf-8\") as f:\n",
    "    data = json.load(f)"
   ]
  },
  {
   "cell_type": "code",
   "execution_count": 27,
   "metadata": {},
   "outputs": [],
   "source": [
    "import random\n",
    "import copy\n",
    "import json\n",
    "from pathlib import Path\n",
    "import json\n",
    "\n",
    "\n",
    "data_path = Path(\"../data/once_forbidden_topics/json_clean/train_no_topics_instructions.json\")\n",
    "\n",
    "with open(data_path, \"r\", encoding=\"utf-8\") as f:\n",
    "    data = json.load(f)\n",
    "\n",
    "\n",
    "random.seed(42)\n",
    "\n",
    "new_data = []\n",
    "\n",
    "cities = {\n",
    "    \"USA\": [\"New York\", \"Los Angeles\", \"Chikago\", \"Houston\", \"Boston\", \"San Diego\", \"Philadelphia\"],\n",
    "    \"Canada\": [\"Toronto\", \"Ottawa\", \"Vancouver\"],\n",
    "    \"UK\": [\"York\", \"London\", \"Birmingham\", \"Bristol\"],\n",
    "}\n",
    "\n",
    "for sample in data:\n",
    "    bot_info = \"Alice is a nice looking, friendly and polite 22 years old girl from {country}, {city}. Alice is really interested in converstion with David.\"\n",
    "    country = random.choice(list(cities.keys()))\n",
    "    city = random.choice(cities[country])\n",
    "    bot_info = bot_info.format(country=country, city=city)\n",
    "    new_sample = copy.deepcopy(sample)\n",
    "    new_sample[\"bio_info\"] = bot_info\n",
    "    new_data.append(new_sample)\n",
    "\n",
    "\n",
    "data_path = Path(\"../data/once_forbidden_topics/json_clean/train_no_topics_instructions_changed_bio.json\")\n",
    "\n",
    "with open(data_path, \"w\", encoding=\"utf-8\") as f:\n",
    "    data = json.dump(new_data, f, indent=4)"
   ]
  },
  {
   "cell_type": "code",
   "execution_count": 28,
   "metadata": {},
   "outputs": [],
   "source": [
    "import random\n",
    "import copy\n",
    "import json\n",
    "from pathlib import Path\n",
    "import json\n",
    "\n",
    "\n",
    "data_path = Path(\"../data/once_dialogues_fr/json_clean/train_once_main_fem.json\")\n",
    "\n",
    "with open(data_path, \"r\", encoding=\"utf-8\") as f:\n",
    "    data = json.load(f)\n",
    "\n",
    "\n",
    "random.seed(42)\n",
    "\n",
    "new_data = []\n",
    "\n",
    "cities = {\n",
    "    \"de France\": [\"à Paris\", \"Lyon\", \"à Bordeaux\", \"à Strasbourg\", \"à Aix-en-Provence\"],\n",
    "    \"du Canada\": [\"Ville de Québec\"],\n",
    "    \"de Belgique\": [\"Louvain\", \"Bruxelles\"],\n",
    "}\n",
    "\n",
    "for sample in data:\n",
    "    bot_info = \"Alice est une jeune fille de 22 ans jolie, sympathique et polie originaire {country}, {city}. Alice est vraiment intéressée par une conversation avec David.\"\n",
    "    country = random.choice(list(cities.keys()))\n",
    "    city = random.choice(cities[country])\n",
    "    bot_info = bot_info.format(country=country, city=city)\n",
    "    new_sample = copy.deepcopy(sample)\n",
    "    new_sample[\"bio_info\"] = bot_info\n",
    "    new_data.append(new_sample)\n",
    "\n",
    "\n",
    "data_path = Path(\"../data/once_dialogues_fr/json_clean/train_once_main_fem_new_bio.json\")\n",
    "\n",
    "with open(data_path, \"w\", encoding=\"utf-8\") as f:\n",
    "    data = json.dump(new_data, f, indent=4)"
   ]
  },
  {
   "cell_type": "code",
   "execution_count": 29,
   "metadata": {},
   "outputs": [],
   "source": [
    "import random\n",
    "import copy\n",
    "import json\n",
    "from pathlib import Path\n",
    "import json\n",
    "\n",
    "\n",
    "data_path = Path(\"../data/once_dialogues_fr/json_clean/train_forbidden_topics.json\")\n",
    "\n",
    "with open(data_path, \"r\", encoding=\"utf-8\") as f:\n",
    "    data = json.load(f)\n",
    "\n",
    "\n",
    "random.seed(42)\n",
    "\n",
    "new_data = []\n",
    "\n",
    "cities = {\n",
    "    \"de France\": [\"à Paris\", \"Lyon\", \"à Bordeaux\", \"à Strasbourg\", \"à Aix-en-Provence\"],\n",
    "    \"du Canada\": [\"Ville de Québec\"],\n",
    "    \"de Belgique\": [\"Louvain\", \"Bruxelles\"],\n",
    "}\n",
    "\n",
    "for sample in data:\n",
    "    bot_info = \"Alice est une jeune fille de 22 ans jolie, sympathique et polie originaire {country}, {city}. Alice est vraiment intéressée par une conversation avec David.\"\n",
    "    country = random.choice(list(cities.keys()))\n",
    "    city = random.choice(cities[country])\n",
    "    bot_info = bot_info.format(country=country, city=city)\n",
    "    new_sample = copy.deepcopy(sample)\n",
    "    new_sample[\"bio_info\"] = bot_info\n",
    "    new_data.append(new_sample)\n",
    "\n",
    "\n",
    "data_path = Path(\"../data/once_dialogues_fr/json_clean/train_forbidden_topics_new_bio.json\")\n",
    "\n",
    "with open(data_path, \"w\", encoding=\"utf-8\") as f:\n",
    "    data = json.dump(new_data, f, indent=4)"
   ]
  },
  {
   "cell_type": "code",
   "execution_count": 53,
   "metadata": {},
   "outputs": [],
   "source": [
    "from pathlib import Path\n",
    "import json\n",
    "\n",
    "\n",
    "data_path = Path(\"../data/once_dialogues/json_clean/train_instructions.json\")\n",
    "\n",
    "with open(data_path, \"r\", encoding=\"utf-8\") as f:\n",
    "    data = json.load(f)"
   ]
  },
  {
   "cell_type": "code",
   "execution_count": 54,
   "metadata": {},
   "outputs": [],
   "source": [
    "import copy\n",
    "\n",
    "\n",
    "def calculate_chars(sample):\n",
    "    tokens_len = 0\n",
    "    for d in sample[\"dialogue\"]:\n",
    "        tokens_len += len(d[\"text\"])\n",
    "    return tokens_len\n",
    "\n",
    "\n",
    "def print_dialogue(sample):\n",
    "    bio_info = sample[\"bio_info\"]\n",
    "    print(f\"Bio info: {bio_info}\\nDialogue:\")\n",
    "    for d in sample[\"dialogue\"]:\n",
    "        print(f'{d[\"speaker\"]}: {d[\"text\"]}')"
   ]
  },
  {
   "cell_type": "code",
   "execution_count": 55,
   "metadata": {},
   "outputs": [
    {
     "data": {
      "text/plain": [
       "83"
      ]
     },
     "execution_count": 55,
     "metadata": {},
     "output_type": "execute_result"
    }
   ],
   "source": [
    "en_cities = [\"Toronto\", \"Ottawa\", \"Vancouver\", \"Quebec\"]\n",
    "\n",
    "en_cities_map = {\n",
    "    \"Quebec\": \"Ville de Québec\",\n",
    "    \"Toronto\": \"Toronto\",\n",
    "    \"Ottawa\": \"Ottawa\",\n",
    "    \"Vancouver\": \"Vancouver\",\n",
    "}\n",
    "\n",
    "samples_w_cities = []\n",
    "for sample in data:\n",
    "    text = \"\\n\".join([d[\"text\"] if d[\"speaker\"] == \"Alice\" else \"\" for d in sample[\"dialogue\"]])\n",
    "    flag = False\n",
    "    city_in_text = \"\"\n",
    "    for city in en_cities:\n",
    "        if city.lower() in text.lower():\n",
    "            flag = True\n",
    "            city_in_text = city\n",
    "            break\n",
    "\n",
    "    if flag:\n",
    "        bio_info = \"Alice est une jeune fille de 22 ans jolie, sympathique et polie originaire du Canada, {city}. Alice est vraiment intéressée par une conversation avec David.\"\n",
    "        city = en_cities_map[city_in_text]\n",
    "        bio_info = bio_info.format(city=city)\n",
    "        sample[\"bio_info\"] = bio_info\n",
    "        samples_w_cities.append((sample, city_in_text))\n",
    "\n",
    "len(samples_w_cities)"
   ]
  },
  {
   "cell_type": "code",
   "execution_count": 56,
   "metadata": {},
   "outputs": [
    {
     "name": "stdout",
     "output_type": "stream",
     "text": [
      "129787 chars / 83 dialogues\n"
     ]
    }
   ],
   "source": [
    "max_chars = 100000\n",
    "current_chars = 0\n",
    "new_data = []\n",
    "\n",
    "for sample in samples_w_cities:\n",
    "    c = calculate_chars(sample[0])\n",
    "    current_chars += c\n",
    "    new_data.append(sample[0])\n",
    "print(f\"{current_chars} chars / {len(new_data)} dialogues\")"
   ]
  },
  {
   "cell_type": "code",
   "execution_count": 57,
   "metadata": {},
   "outputs": [],
   "source": [
    "import deepl\n",
    "\n",
    "auth_key = \"bad987fa-6d7a-3780-d0a6-e3f40463ad03:fx\"  # Replace with your key\n",
    "translator = deepl.Translator(auth_key)\n",
    "# result = translator.translate_text(\"Hello, world!\", target_lang=\"FR\")\n",
    "# print(result.text)  # \"Bonjour, le monde !\""
   ]
  },
  {
   "cell_type": "code",
   "execution_count": 58,
   "metadata": {},
   "outputs": [],
   "source": [
    "import tqdm"
   ]
  },
  {
   "cell_type": "code",
   "execution_count": 59,
   "metadata": {},
   "outputs": [
    {
     "name": "stderr",
     "output_type": "stream",
     "text": [
      "100%|██████████| 83/83 [08:35<00:00,  6.21s/it]\n"
     ]
    }
   ],
   "source": [
    "translated_data = []\n",
    "\n",
    "for sample in tqdm.tqdm(new_data[:]):\n",
    "    new_sample = copy.deepcopy(sample)\n",
    "    dialogue = new_sample[\"dialogue\"][:]\n",
    "    for i in range(len(dialogue)):\n",
    "        dialogue[i][\"text\"] = translator.translate_text(dialogue[i][\"text\"], target_lang=\"FR\").text\n",
    "    new_sample[\"dialogue\"] = dialogue\n",
    "    translated_data.append(new_sample)"
   ]
  },
  {
   "cell_type": "code",
   "execution_count": 62,
   "metadata": {},
   "outputs": [],
   "source": [
    "data_path = Path(\"../data/once_dialogues_fr/json_clean/once_dialogues_translated.json\")\n",
    "\n",
    "\n",
    "with open(data_path, \"r\", encoding=\"utf-8\") as f:\n",
    "    data = json.load(f)\n",
    "\n",
    "\n",
    "for i in range(len(data)):\n",
    "    data[i][\"language\"] = \"fr\"\n",
    "    data[i][\"topic\"] = \"\"\n",
    "\n",
    "\n",
    "with open(data_path, \"w\", encoding=\"utf-8\") as f:\n",
    "    json.dump(data, f, indent=4)"
   ]
  },
  {
   "cell_type": "code",
   "execution_count": 68,
   "metadata": {},
   "outputs": [],
   "source": [
    "data_path = Path(\"../data/once_dialogues_fr/json_clean/train_forbidden_topics_new_bio.json\")\n",
    "\n",
    "with open(data_path, \"r\", encoding=\"utf-8\") as f:\n",
    "    data = json.load(f)\n",
    "\n",
    "\n",
    "topics = list(set([s[\"topic\"] for s in data]))\n",
    "\n",
    "topic_insturction_map = {\n",
    "    \"\": \"\",\n",
    "    \"ask phone number\": \"Alice ne devrait pas accepter de communiquer par téléphone.\",\n",
    "    \"Ask phone\": \"Alice ne devrait pas accepter de communiquer par téléphone.\",\n",
    "    \"ask phone\": \"Alice ne devrait pas accepter de communiquer par téléphone.\",\n",
    "    \"Ask phone number\": \"Alice ne devrait pas accepter de communiquer par téléphone.\",\n",
    "    \"call\": \"Alice ne devrait pas accepter de se joindre à n'importe quel type d'appel.\",\n",
    "    \"offline meeting\": \"Alice ne devrait pas accepter les réunions hors ligne.\",\n",
    "    \"Offline meeting\": \"Alice ne devrait pas accepter les réunions hors ligne.\",\n",
    "    \"Off line meeting\": \"Alice ne devrait pas accepter les réunions hors ligne.\",\n",
    "    \"social\": \"Alice ne devrait pas accepter de partager ses réseaux sociaux.\",\n",
    "    \"Ask socials\": \"Alice ne devrait pas accepter de partager ses réseaux sociaux.\",\n",
    "    \"Ask social\": \"Alice ne devrait pas accepter de partager ses réseaux sociaux.\",\n",
    "    \"social/ask phone number\": \"Alice ne devrait pas accepter de communiquer par téléphone et de partager ses réseaux sociaux.\",\n",
    "    \"Social\": \"Alice ne devrait pas accepter de partager ses réseaux sociaux.\",\n",
    "    \"give phone number\": \"Alice ne devrait pas accepter de communiquer par téléphone.\",\n",
    "    \"Give phone number\": \"Alice ne devrait pas accepter de communiquer par téléphone.\",\n",
    "    \"Give phone\": \"Alice ne devrait pas accepter de communiquer par téléphone.\",\n",
    "    \"Ask nude\": \"Alice ne devrait pas partager ses photos nues.\",\n",
    "}\n",
    "\n",
    "\n",
    "new_data = []\n",
    "for sample in data:\n",
    "    new_sample = copy.deepcopy(sample)\n",
    "    new_sample[\"instruction\"] = topic_insturction_map[new_sample[\"topic\"]]\n",
    "    new_sample[\"topic\"] = \"\"\n",
    "    new_data.append(new_sample)\n",
    "\n",
    "\n",
    "def dump_data(data, path):\n",
    "    with open(path, \"w\", encoding=\"utf-8\") as f:\n",
    "        json.dump(data, f, indent=4)\n",
    "\n",
    "\n",
    "data_path = Path(\"../data/once_dialogues_fr/json_clean/train_forbidden_topics_new_bio_v2.json\")\n",
    "dump_data(new_data, data_path)"
   ]
  },
  {
   "cell_type": "code",
   "execution_count": 72,
   "metadata": {},
   "outputs": [
    {
     "data": {
      "text/plain": [
       "['',\n",
       " 'Outings / Leisure',\n",
       " 'Food',\n",
       " 'Salutation',\n",
       " 'Daily life',\n",
       " 'Past relationships',\n",
       " 'Music',\n",
       " 'Family',\n",
       " 'Clothing',\n",
       " 'Work',\n",
       " 'Basic questions',\n",
       " 'Past life',\n",
       " 'Cultural',\n",
       " 'Everyday life',\n",
       " 'Man/woman relationship',\n",
       " 'past relationship',\n",
       " 'Seasonal',\n",
       " 'Past relationship',\n",
       " 'Daily Life',\n",
       " 'Small talk',\n",
       " 'Hobby ',\n",
       " 'daily life',\n",
       " 'Man/Woman relationship',\n",
       " 'Acquaintance',\n",
       " 'Hobby',\n",
       " 'Romance',\n",
       " 'Social relationships',\n",
       " 'Cultural references',\n",
       " 'Mourning',\n",
       " 'Male/female relationships',\n",
       " 'Children']"
      ]
     },
     "execution_count": 72,
     "metadata": {},
     "output_type": "execute_result"
    }
   ],
   "source": [
    "data_path = Path(\"../data/once_dialogues_fr/json_clean/train_once_main_fem_new_bio.json\")\n",
    "\n",
    "with open(data_path, \"r\", encoding=\"utf-8\") as f:\n",
    "    data = json.load(f)\n",
    "\n",
    "\n",
    "topics = list(set([s[\"topic\"] for s in data]))\n",
    "topics"
   ]
  },
  {
   "cell_type": "code",
   "execution_count": null,
   "metadata": {},
   "outputs": [],
   "source": []
  }
 ],
 "metadata": {
  "kernelspec": {
   "display_name": "once_train",
   "language": "python",
   "name": "python3"
  },
  "language_info": {
   "codemirror_mode": {
    "name": "ipython",
    "version": 3
   },
   "file_extension": ".py",
   "mimetype": "text/x-python",
   "name": "python",
   "nbconvert_exporter": "python",
   "pygments_lexer": "ipython3",
   "version": "3.11.5"
  }
 },
 "nbformat": 4,
 "nbformat_minor": 2
}
